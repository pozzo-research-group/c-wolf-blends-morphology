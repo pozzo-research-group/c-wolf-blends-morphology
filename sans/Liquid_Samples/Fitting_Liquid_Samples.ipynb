{
 "cells": [
  {
   "cell_type": "code",
   "execution_count": 1,
   "metadata": {},
   "outputs": [],
   "source": [
    "import numpy as np\n",
    "import pandas as pd\n",
    "import os\n",
    "import matplotlib.pyplot as plt\n",
    "\n",
    "from bumps.names import *\n",
    "from bumps.fitters import fit\n",
    "\n",
    "import sasmodels\n",
    "\n",
    "from sasmodels.core import load_model\n",
    "from sasmodels.bumps_model import Model, Experiment\n",
    "from sasmodels.data import load_data, plot_data, empty_data1D\n",
    "from sasmodels.direct_model import DirectModel\n",
    "\n",
    "import bumps\n",
    "\n",
    "# Sage and Lorenzo, edit the path to sasview for sas below\n",
    "import sas\n"
   ]
  },
  {
   "cell_type": "code",
   "execution_count": 4,
   "metadata": {},
   "outputs": [],
   "source": [
    "# sample meta-data\n",
    "sample_info = pd.read_csv('../../data/sans/Liquid_Samples/Sample_Info.csv')\n",
    "\n",
    "# helpful meta-data dictionaries\n",
    "names = dict(zip(sample_info['Sample'], sample_info['Name']))\n",
    "cps = dict(zip(sample_info['Sample'], sample_info['Conjugated Polymer']))\n",
    "matrix = dict(zip(sample_info['Sample'], sample_info['Commodity Polymer']))\n",
    "cp_conc = dict(zip(sample_info['Sample'], sample_info['Conjugated Polymer Concentration']))\n",
    "matrix_conc = dict(zip(sample_info['Sample'], sample_info['Commodity Polymer Concentration']))\n",
    "solvent_names = dict(zip(sample_info['Sample'], sample_info['Solvent']))"
   ]
  },
  {
   "cell_type": "code",
   "execution_count": 11,
   "metadata": {},
   "outputs": [],
   "source": [
    "slds = {'RRe-P3HT':0.676,\n",
    "       'Polystyrene-D8':6.464, # density of 1.13 g/mL\n",
    "       'Polystyrene-H8':1.426,\n",
    "       'Toluene-D8':5.664}\n"
   ]
  },
  {
   "cell_type": "code",
   "execution_count": 67,
   "metadata": {},
   "outputs": [],
   "source": [
    "file_info = pd.read_csv('../../data/sans/Liquid_Samples/File_Info.csv')\n",
    "file_assign = dict(zip(file_info['Filename'], file_info['Sample']))\n",
    "\n",
    "data_dir = '../../data/sans/Liquid_Samples/'\n",
    "files = os.listdir(data_dir)\n",
    "sans_data = {}\n",
    "usans_data = {}\n",
    "for file in files:\n",
    "    if 'USANS' in file:\n",
    "        key = str(file.split('_')[0][:4])\n",
    "        usans_data[key] = np.loadtxt(data_dir + file,skiprows=4)\n",
    "    elif 'sans' in file:\n",
    "        key = file_assign[file]\n",
    "        if key in sans_data.keys():\n",
    "            sans_data[key].append(np.loadtxt((data_dir + file),skiprows=12))\n",
    "        else:\n",
    "            sans_data[key] = [np.loadtxt((data_dir + file),skiprows=12)]\n",
    "            \n",
    "for key, (data1, data2) in sans_data.items():\n",
    "    x = np.concatenate((data1[:,0], data2[:,0]))\n",
    "    y = np.concatenate((data1[:,1], data2[:,1]))\n",
    "    dx = np.concatenate((data1[:,3], data2[:,3]))\n",
    "    dy = np.concatenate((data1[:,2], data2[:,2]))\n",
    "    sans_data[key] = sasmodels.data.Data1D(x, y, dx=dx, dy=dy)\n",
    "    \n",
    "for key, data in usans_data.items():\n",
    "    usans_data[key] = sasmodels.data.Data1D(data[:,0],data[:,1],dy=data[:,2])"
   ]
  },
  {
   "cell_type": "code",
   "execution_count": 140,
   "metadata": {},
   "outputs": [],
   "source": [
    "for key, data in sans_data.items():\n",
    "    filename = 'Merged_' + key + '.ABS'\n",
    "    x = data.x\n",
    "    y = data.y\n",
    "    dy = data.dy\n",
    "    \n",
    "    comb = np.vstack((x,y,dy)).T\n",
    "    np.savetxt('../../data/sans/Liquid_Samples/' + filename, comb, header='<X> <Y> <dY>')"
   ]
  },
  {
   "cell_type": "markdown",
   "metadata": {},
   "source": [
    "## Fitting the RRe-P3HT at 5 mg/mL Sample (TU11)"
   ]
  },
  {
   "cell_type": "code",
   "execution_count": 68,
   "metadata": {},
   "outputs": [
    {
     "data": {
      "text/plain": [
       "{'scale': Parameter(scale),\n",
       " 'background': Parameter(background),\n",
       " 'length': Parameter(length),\n",
       " 'length_pd': Parameter(length_pd),\n",
       " 'length_pd_n': Parameter(length_pd_n),\n",
       " 'length_pd_nsigma': Parameter(length_pd_nsigma),\n",
       " 'kuhn_length': Parameter(kuhn_length),\n",
       " 'kuhn_length_pd': Parameter(kuhn_length_pd),\n",
       " 'kuhn_length_pd_n': Parameter(kuhn_length_pd_n),\n",
       " 'kuhn_length_pd_nsigma': Parameter(kuhn_length_pd_nsigma),\n",
       " 'radius': Parameter(radius),\n",
       " 'radius_pd': Parameter(radius_pd),\n",
       " 'radius_pd_n': Parameter(radius_pd_n),\n",
       " 'radius_pd_nsigma': Parameter(radius_pd_nsigma),\n",
       " 'sld': Parameter(sld),\n",
       " 'sld_solvent': Parameter(sld_solvent),\n",
       " 'up_frac_i': Parameter(up_frac_i),\n",
       " 'up_frac_f': Parameter(up_frac_f),\n",
       " 'up_angle': Parameter(up_angle),\n",
       " 'sld_M0': Parameter(sld_M0),\n",
       " 'sld_mtheta': Parameter(sld_mtheta),\n",
       " 'sld_mphi': Parameter(sld_mphi),\n",
       " 'sld_solvent_M0': Parameter(sld_solvent_M0),\n",
       " 'sld_solvent_mtheta': Parameter(sld_solvent_mtheta),\n",
       " 'sld_solvent_mphi': Parameter(sld_solvent_mphi)}"
      ]
     },
     "execution_count": 68,
     "metadata": {},
     "output_type": "execute_result"
    }
   ],
   "source": [
    "kernel = load_model(\"flexible_cylinder\")\n",
    "model = Model(kernel)\n",
    "model.parameters()"
   ]
  },
  {
   "cell_type": "code",
   "execution_count": 135,
   "metadata": {
    "scrolled": true
   },
   "outputs": [
    {
     "name": "stdout",
     "output_type": "stream",
     "text": [
      "final chisq 176338.455(22)\n",
      "=== Uncertainty from curvature:     name value(unc.)     value(unc./chi)) ===\n",
      "                              background 0.0(23)e-3      0.1(54)e-6     \n",
      "                             kuhn length 100.95(14)      100.94896(32)  \n",
      "                                  length 999.9(27)       999.8503(64)   \n",
      "                                  radius 9.982(38)       9.981811(90)   \n",
      "                                   scale 0.04985(40)     0.04985158(95) \n",
      "===========================================================================\n"
     ]
    }
   ],
   "source": [
    "key = 'TU11'\n",
    "kernel = load_model(\"flexible_cylinder\")\n",
    "\n",
    "# loading the data\n",
    "sans = sans_data[key]\n",
    "sans.dx = sans.dx-sans.dx # removing smearing from sans segment\n",
    "#usans = usans_data[key]\n",
    "\n",
    "# initial parameter values\n",
    "\n",
    "scale = Parameter(0.05, name='scale').range(0,1)\n",
    "background = Parameter(0.002, name='background').range(0,1)\n",
    "\n",
    "length = Parameter(1000,name='length',limits=[0,inf]).range(0,inf)\n",
    "length_pd = Parameter(0.2)\n",
    "\n",
    "kuhn_length = Parameter(100,name='kuhn length',limits=[0,inf]).range(0,inf)\n",
    "kuhn_length_pd = Parameter(0)\n",
    "\n",
    "radius = Parameter(10,name='radius',limits=[0,inf]).range(0,100)\n",
    "radius_pd = Parameter(0)\n",
    "\n",
    "sld = Parameter(slds[cps[key]])\n",
    "sld_solvent = Parameter(slds[solvent_names[key]])\n",
    "\n",
    "# setting up the combined model for fitting\n",
    "sans_model = Model(\n",
    "    model=kernel,\n",
    "    scale=scale,\n",
    "    background=background,\n",
    "    length=length,\n",
    "    length_pd=length_pd,\n",
    "    kuhn_length=kuhn_length,\n",
    "    kuhn_length_pd=kuhn_length_pd,\n",
    "    radius=radius,\n",
    "    radius_pd=radius_pd,\n",
    "    sld=sld,\n",
    "    sld_solvent=sld_solvent,\n",
    ")\n",
    "\n",
    "\n",
    "sans_experiment=Experiment(data=sans, model=sans_model)\n",
    "problem=FitProblem(sans_experiment)\n",
    "result=fit(problem, method='lm',verbose=True)\n",
    "\n",
    "#problem.plot()"
   ]
  },
  {
   "cell_type": "code",
   "execution_count": 136,
   "metadata": {},
   "outputs": [
    {
     "data": {
      "image/png": "[encoded data removed]",
      "text/plain": [
       "<Figure size 432x288 with 1 Axes>"
      ]
     },
     "metadata": {
      "needs_background": "light"
     },
     "output_type": "display_data"
    }
   ],
   "source": [
    "plt.errorbar(sans.x,sans.y,yerr=sans.dy,fmt='o',color='black')\n",
    "sort_mask = np.argsort(sans.x)\n",
    "plt.errorbar(sans.x[sort_mask],problem.fitness.theory()[sort_mask],fmt='-',linewidth=4,color='red')\n",
    "\n",
    "plt.xscale('log')\n",
    "plt.yscale('log')"
   ]
  },
  {
   "cell_type": "code",
   "execution_count": 131,
   "metadata": {},
   "outputs": [
    {
     "name": "stdout",
     "output_type": "stream",
     "text": [
      "final chisq 467.166(17)\n",
      "=== Uncertainty from curvature:     name value(unc.)     value(unc./chi)) ===\n",
      "                              background 0.075714(95)    0.0757140(44)  \n",
      "                                  length 100168(82)      100167.9(38)   \n",
      "                                  radius 41.773(27)      41.7728(12)    \n",
      "                                   scale 0.0023316(17)   0.002331628(81)\n",
      "===========================================================================\n"
     ]
    }
   ],
   "source": [
    "key = 'TU11'\n",
    "kernel = load_model(\"cylinder\")\n",
    "\n",
    "# loading the data\n",
    "sans = sans_data[key]\n",
    "sans.dx = sans.dx-sans.dx # removing smearing from sans segment\n",
    "#usans = usans_data[key]\n",
    "\n",
    "# initial parameter values\n",
    "\n",
    "scale = Parameter(0.05, name='scale').range(0,1)\n",
    "background = Parameter(0.1, name='background').range(0,1)\n",
    "\n",
    "length = Parameter(100000,name='length',limits=[0,inf]).range(1000,inf)\n",
    "length_pd = Parameter(0)\n",
    "\n",
    "# kuhn_length = Parameter(100,name='kuhn length',limits=[0,inf]).range(0,inf)\n",
    "# kuhn_length_pd = Parameter(0)\n",
    "\n",
    "radius = Parameter(200,name='radius',limits=[0,inf]).range(0,1000)\n",
    "radius_pd = Parameter(0.5)\n",
    "\n",
    "sld = Parameter(slds[cps[key]])\n",
    "sld_solvent = Parameter(slds[solvent_names[key]])\n",
    "\n",
    "# setting up the combined model for fitting\n",
    "sans_model = Model(\n",
    "    model=kernel,\n",
    "    scale=scale,\n",
    "    background=background,\n",
    "    length=length,\n",
    "    length_pd=length_pd,\n",
    "    #kuhn_length=kuhn_length,\n",
    "    #kuhn_length_pd=kuhn_length_pd,\n",
    "    radius=radius,\n",
    "    radius_pd=radius_pd,\n",
    "    sld=sld,\n",
    "    sld_solvent=sld_solvent,\n",
    ")\n",
    "\n",
    "\n",
    "sans_experiment=Experiment(data=sans, model=sans_model)\n",
    "problem=FitProblem(sans_experiment)\n",
    "result=fit(problem, method='lm',verbose=True)\n",
    "\n",
    "#problem.plot()"
   ]
  },
  {
   "cell_type": "code",
   "execution_count": 132,
   "metadata": {},
   "outputs": [
    {
     "data": {
      "image/png": "[encoded data removed]",
      "text/plain": [
       "<Figure size 432x288 with 1 Axes>"
      ]
     },
     "metadata": {
      "needs_background": "light"
     },
     "output_type": "display_data"
    }
   ],
   "source": [
    "plt.errorbar(sans.x,sans.y,yerr=sans.dy,fmt='o',color='black')\n",
    "sort_mask = np.argsort(sans.x)\n",
    "plt.errorbar(sans.x[sort_mask],problem.fitness.theory()[sort_mask],fmt='-',linewidth=4,color='red')\n",
    "\n",
    "plt.xscale('log')\n",
    "plt.yscale('log')"
   ]
  }
 ],
 "metadata": {
  "kernelspec": {
   "display_name": "Python [conda env:sasmodels2] *",
   "language": "python",
   "name": "conda-env-sasmodels2-py"
  },
  "language_info": {
   "codemirror_mode": {
    "name": "ipython",
    "version": 3
   },
   "file_extension": ".py",
   "mimetype": "text/x-python",
   "name": "python",
   "nbconvert_exporter": "python",
   "pygments_lexer": "ipython3",
   "version": "3.8.2"
  }
 },
 "nbformat": 4,
 "nbformat_minor": 4
}

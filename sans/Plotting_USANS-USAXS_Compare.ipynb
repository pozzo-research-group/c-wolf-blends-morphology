{
 "cells": [
  {
   "cell_type": "markdown",
   "metadata": {},
   "source": [
    "# Plotting_USANS-USAXS_Compare\n",
    "\n",
    "This script will create a plot that compares the neutron and x-ray scattering data for a single blends sample."
   ]
  },
  {
   "cell_type": "code",
   "execution_count": 1,
   "metadata": {},
   "outputs": [],
   "source": [
    "import numpy as np\n",
    "import pandas as pd\n",
    "import os\n",
    "import matplotlib.pyplot as plt\n",
    "\n",
    "from bumps.names import *\n",
    "from bumps.fitters import fit\n",
    "\n",
    "import sasmodels\n",
    "\n",
    "from sasmodels.core import load_model\n",
    "from sasmodels.bumps_model import Model, Experiment\n",
    "from sasmodels.data import load_data, plot_data, empty_data1D\n",
    "from sasmodels.direct_model import DirectModel\n",
    "\n",
    "import sas"
   ]
  },
  {
   "cell_type": "markdown",
   "metadata": {},
   "source": [
    "### Loading Sample Data and Meta-Data"
   ]
  },
  {
   "cell_type": "code",
   "execution_count": 2,
   "metadata": {},
   "outputs": [],
   "source": [
    "# sample meta-data\n",
    "sample_info = pd.read_csv('../data/sans/Sample_Info.csv')\n",
    "\n",
    "# helpful meta-data dictionaries\n",
    "names = dict(zip(sample_info['Sample'], sample_info['Name']))\n",
    "cps = dict(zip(sample_info['Sample'], sample_info['Conjugated Polymer']))\n",
    "matrix = dict(zip(sample_info['Sample'], sample_info['Commodity Polymer']))\n",
    "solvent_names = dict(zip(sample_info['Sample'], sample_info['Solvent']))\n",
    "\n",
    "# target weight percents of conjugated polymer\n",
    "target = dict(zip(sample_info['Sample'], sample_info['Target Fraction']*100))\n",
    "\n",
    "# fixing 401/402 and 403/404 sample pair target values for plotting colors only\n",
    "target[401] = 0.5\n",
    "target[402] = 0.1\n",
    "target[403] = 5\n",
    "target[404] = 1\n",
    "\n",
    "# actual weight percentages\n",
    "data = np.loadtxt('../data/uv_vis/Corrected_wtPercents.csv', delimiter=',', skiprows=1)\n",
    "actual = {}\n",
    "for key, tar, act, stdev, act_vol, stdev_vol in data:\n",
    "    actual[key] = act\n"
   ]
  },
  {
   "cell_type": "markdown",
   "metadata": {},
   "source": [
    "Loading reduced and compiled SANS and USANS data."
   ]
  },
  {
   "cell_type": "code",
   "execution_count": 3,
   "metadata": {},
   "outputs": [],
   "source": [
    "data_dir = '../data/sans/Smeared_Data_20200629/'\n",
    "files = os.listdir(data_dir)\n",
    "sans_data = {}\n",
    "usans_data = {}\n",
    "for file in files:\n",
    "    if 'USANS' in file:\n",
    "        key = int(file.split('_')[0][3:])\n",
    "        usans_data[key] = load_data(data_dir + file)\n",
    "    elif 'SANS' in file:\n",
    "        key = int(file.split('_')[0][3:])\n",
    "        sans_data[key] = load_data(data_dir + file)"
   ]
  },
  {
   "cell_type": "code",
   "execution_count": 34,
   "metadata": {},
   "outputs": [],
   "source": [
    "data_dir = '../data/usaxs/'\n",
    "files = os.listdir(data_dir)\n",
    "usaxs_data = {}\n",
    "for file in files:\n",
    "    if 'mrg' in file:\n",
    "        key = int(file.split('_')[4])\n",
    "        data = np.loadtxt(data_dir + file, skiprows=1)\n",
    "        usaxs_data[key] = data"
   ]
  },
  {
   "cell_type": "code",
   "execution_count": 35,
   "metadata": {},
   "outputs": [],
   "source": [
    "# useful dictionaries with labels and colors for the plots and their legends\n",
    "wt_names = {} \n",
    "full_names = {}\n",
    "\n",
    "wt_colors = {}\n",
    "solvent_colors = {}\n",
    "cp_colors = {}\n",
    "\n",
    "rep_colors = {}\n",
    "rep_names = {}\n",
    "\n",
    "temp_wt_colors = {\n",
    "    0.1: 'firebrick',\n",
    "    0.5: 'darkorange',\n",
    "    1.0: 'darkcyan',\n",
    "    5.0: 'mediumblue',\n",
    "    10.0: 'deeppink',\n",
    "    25.0: 'darkorchid',\n",
    "    50.0: 'forestgreen',\n",
    "    0.0: 'black'\n",
    "}\n",
    "\n",
    "temp_solvent_colors = {\n",
    "    'Chloroform': 'firebrick',\n",
    "    'Bromobenzene': 'darkorange',\n",
    "    'Toluene': 'darkcyan',\n",
    "    'Slow Dry Chloroform': 'darkorchid'\n",
    "}\n",
    "\n",
    "temp_cp_colors = {\n",
    "    'RRe-P3HT': 'firebrick',\n",
    "    'RRa-P3HT': 'darkorange',\n",
    "    'P3DDT': 'darkorchid',\n",
    "    'PQT-12': 'darkcyan',\n",
    "    'None': 'black'\n",
    "}\n",
    "\n",
    "for key in names.keys():\n",
    "    if key in actual.keys():\n",
    "        frac = actual[key]\n",
    "    else:\n",
    "        frac = target[key]\n",
    "    frac = np.round(frac,2)\n",
    "    \n",
    "    if cps[key] == 'None':\n",
    "        wt_names[key] = matrix[key] + ' Control'\n",
    "        full_names[key] = matrix[key] + ' Control'\n",
    "    else:\n",
    "        wt_names[key] = str(frac) + ' wt% ' + cps[key]\n",
    "        full_names[key] = str(frac) + ' wt% ' + cps[key] + ' in ' + matrix[key]\n",
    "        \n",
    "for key in cps.keys():\n",
    "    wt_colors[key] = temp_wt_colors[target[key]]\n",
    "    solvent_colors[key] = temp_solvent_colors[solvent_names[key]]\n",
    "    cp_colors[key] = temp_cp_colors[cps[key]]\n"
   ]
  },
  {
   "cell_type": "markdown",
   "metadata": {},
   "source": [
    "### Creating common plotting function"
   ]
  },
  {
   "cell_type": "code",
   "execution_count": 38,
   "metadata": {},
   "outputs": [],
   "source": [
    "def plot_sans(keys,sans_data_dict,usans_data_dict,usaxs_data_dict,zorders,label_dict,color_dict,filename,title=None,legend_title=None, size=5):\n",
    "    \n",
    "    make_colors = {}\n",
    "    if type(color_dict) is list:\n",
    "        print('converting color list')\n",
    "        i = 0\n",
    "        for key in keys:\n",
    "            make_colors[key] = color_dict[i]\n",
    "            i += 1\n",
    "        color_dict = make_colors\n",
    "    \n",
    "    make_labels = {}\n",
    "    if type(label_dict) is list:\n",
    "        print('converting label list')\n",
    "        i = 0\n",
    "        for key in keys:\n",
    "            make_labels[key] = label_dict[i]\n",
    "            i += 1\n",
    "        label_dict = make_labels\n",
    "            \n",
    "            \n",
    "    plt.figure(figsize=(6,6))\n",
    "    i = 0\n",
    "    for key in keys:\n",
    "        sans_data = sans_data_dict[key]\n",
    "        \n",
    "        plt.errorbar(sans_data.x, sans_data.y, yerr=sans_data.dy, zorder = zorders[i]*10, label='USANS', c='darkcyan', ms=size, fmt='o')\n",
    "        \n",
    "        if key in usans_data_dict.keys():\n",
    "            usans_data = usans_data_dict[key]\n",
    "            plt.errorbar(usans_data.x, usans_data.y, yerr=usans_data.dy, zorder = zorders[i]*10, label=None, c='darkcyan', ms=size, fmt='o')\n",
    "    \n",
    "        usaxs_data = usaxs_data_dict[key]\n",
    "        plt.errorbar(usaxs_data[:,0], usaxs_data[:,1], yerr=usaxs_data[:,2], zorder=zorders[i], label='USAXS', c='firebrick', ms=size, fmt='o')\n",
    "    plt.xscale('log')\n",
    "    plt.yscale('log')\n",
    "\n",
    "    plt.xlabel(r'Q ($\\AA^{-1}$)', fontsize=16)\n",
    "    plt.ylabel(r'I(Q) (cm$^{-1}$)', fontsize=16)\n",
    "    \n",
    "    legend = plt.legend(fontsize=12, title=legend_title)\n",
    "    legend.get_title().set_fontsize('12')\n",
    "\n",
    "    plt.xticks(fontsize=14)\n",
    "    plt.yticks(fontsize=14)\n",
    "\n",
    "    plt.ylim(1e-03, 1e11)\n",
    "    plt.xlim(0.00002, 6)\n",
    "\n",
    "#     if title is not None:\n",
    "#         plt.title(title, fontsize=16)\n",
    "    plt.title(label_dict[key]+'\\nCast from '+solvent_names[key], fontsize=16)\n",
    "    \n",
    "    plt.tight_layout()\n",
    "\n",
    "    plt.savefig(filename, dpi=600)\n",
    "    \n",
    "    plt.close()"
   ]
  },
  {
   "cell_type": "markdown",
   "metadata": {},
   "source": [
    "### Plotting Concentration Series"
   ]
  },
  {
   "cell_type": "code",
   "execution_count": 39,
   "metadata": {},
   "outputs": [],
   "source": [
    "save_loc = '../data/sans/SANS_Figures/'\n",
    "os.makedirs(save_loc, exist_ok=True)\n",
    "\n",
    "plot_sans([402],sans_data,usans_data,usaxs_data,[1],full_names,wt_colors, save_loc +'USANS_USAXS_compare402.png',title='RRe-P3HT in PS-D8 from Toluene')\n",
    "plot_sans([403],sans_data,usans_data,usaxs_data,[1],full_names,wt_colors, save_loc +'USANS_USAXS_compare403.png',title='RRe-P3HT in PS-D8 from Toluene')\n",
    "plot_sans([404],sans_data,usans_data,usaxs_data,[1],full_names,wt_colors, save_loc +'USANS_USAXS_compare404.png',title='RRe-P3HT in PS-D8 from Toluene')\n",
    "\n"
   ]
  },
  {
   "cell_type": "code",
   "execution_count": null,
   "metadata": {},
   "outputs": [],
   "source": []
  }
 ],
 "metadata": {
  "kernelspec": {
   "display_name": "Python [conda env:sasmodels2] *",
   "language": "python",
   "name": "conda-env-sasmodels2-py"
  },
  "language_info": {
   "codemirror_mode": {
    "name": "ipython",
    "version": 3
   },
   "file_extension": ".py",
   "mimetype": "text/x-python",
   "name": "python",
   "nbconvert_exporter": "python",
   "pygments_lexer": "ipython3",
   "version": "3.8.2"
  }
 },
 "nbformat": 4,
 "nbformat_minor": 4
}

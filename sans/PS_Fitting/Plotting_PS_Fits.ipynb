{
 "cells": [
  {
   "cell_type": "markdown",
   "metadata": {},
   "source": [
    "# Plotting PS Fits\n",
    "\n",
    "This script will plot the Guinier-Porod fits of the pure deuterated polystyrene control samples. For those samples without available USANS data, the Porod fit alone will be plotted. "
   ]
  },
  {
   "cell_type": "code",
   "execution_count": 1,
   "metadata": {},
   "outputs": [],
   "source": [
    "import numpy as np\n",
    "import pandas as pd\n",
    "import os\n",
    "import matplotlib.pyplot as plt\n",
    "\n",
    "from bumps.names import *\n",
    "from bumps.fitters import fit\n",
    "\n",
    "import sasmodels\n",
    "\n",
    "from sasmodels.core import load_model\n",
    "from sasmodels.bumps_model import Model, Experiment\n",
    "from sasmodels.data import load_data, plot_data, empty_data1D\n",
    "from sasmodels.direct_model import DirectModel\n",
    "\n",
    "# set the following path to the sasview source code if needed for your os\n",
    "# sys.path.append(r'C:path\\to\\sasview\\src')\n",
    "import sas"
   ]
  },
  {
   "cell_type": "markdown",
   "metadata": {},
   "source": [
    "## Loading Data and Meta-Data"
   ]
  },
  {
   "cell_type": "code",
   "execution_count": 2,
   "metadata": {},
   "outputs": [],
   "source": [
    "# sample meta-data\n",
    "sample_info = pd.read_csv('../../data/sans/Sample_Info.csv')\n",
    "\n",
    "# helpful meta-data dictionaries\n",
    "names = dict(zip(sample_info['Sample'], sample_info['Name']))\n",
    "cps = dict(zip(sample_info['Sample'], sample_info['Conjugated Polymer']))\n",
    "matrix = dict(zip(sample_info['Sample'], sample_info['Commodity Polymer']))\n",
    "solvent_names = dict(zip(sample_info['Sample'], sample_info['Solvent']))\n",
    "\n",
    "# target weight percents of conjugated polymer\n",
    "target = dict(zip(sample_info['Sample'], sample_info['Target Fraction']*100))\n",
    "\n",
    "# fixing 401/402 and 403/404 sample pair target values for plotting colors only\n",
    "target[401] = 0.5\n",
    "target[402] = 0.1\n",
    "target[403] = 5\n",
    "target[404] = 1\n",
    "\n",
    "# actual weight percentages\n",
    "data = np.loadtxt('../../data/uv_vis/Corrected_wtPercents.csv', delimiter=',', skiprows=1)\n",
    "actual = {}\n",
    "for key, tar, act, stdev in data:\n",
    "    actual[key] = act\n"
   ]
  },
  {
   "cell_type": "code",
   "execution_count": 3,
   "metadata": {},
   "outputs": [],
   "source": [
    "# loading SANS and smeared USANS data\n",
    "data_dir = '../../data/sans/Smeared_Data_20200629/'\n",
    "files = os.listdir(data_dir)\n",
    "sans_data = {}\n",
    "usans_data = {}\n",
    "for file in files:\n",
    "    if 'USANS' in file:\n",
    "        key = int(file.split('_')[0][3:])\n",
    "        usans_data[key] = load_data(data_dir + file)\n",
    "    elif 'SANS' in file:\n",
    "        key = int(file.split('_')[0][3:])\n",
    "        sans_data[key] = load_data(data_dir + file)"
   ]
  },
  {
   "cell_type": "markdown",
   "metadata": {},
   "source": [
    "We will only be plotting fits for the deuterated polystyrene samples (hydrogenated polystyrene sample was not fit)."
   ]
  },
  {
   "cell_type": "code",
   "execution_count": 4,
   "metadata": {},
   "outputs": [
    {
     "data": {
      "text/plain": [
       "[21, 28, 35, 113, 114, 309, 310, 409, 506]"
      ]
     },
     "execution_count": 4,
     "metadata": {},
     "output_type": "execute_result"
    }
   ],
   "source": [
    "ps_keys = [key for key, value in target.items() if value == 0 and matrix[key] == 'Polystyrene-D8' and key in sans_data.keys()]\n",
    "ps_keys\n"
   ]
  },
  {
   "cell_type": "markdown",
   "metadata": {},
   "source": [
    "Loading background values from initial power law fits of PS data."
   ]
  },
  {
   "cell_type": "code",
   "execution_count": 5,
   "metadata": {},
   "outputs": [],
   "source": [
    "background_files = [file for file in os.listdir('../data/sans/PS_Fitting/ps_fit_results/power_law_background') if 'json' in file]\n",
    "backgrounds = {} # key is sample key, value is ('best', '95% confidence interval')\n",
    "for file in background_files:\n",
    "    data_read = pd.read_json('../data/sans/PS_Fitting/ps_fit_results/power_law_background/' + file)\n",
    "    key = int(file.split('_')[0][3:])\n",
    "    p95 = data_read.loc['p95',str(key) + ' background']\n",
    "    backgrounds[key] = (data_read.loc['best',str(key) + ' background'], p95)"
   ]
  },
  {
   "cell_type": "markdown",
   "metadata": {},
   "source": [
    "Loading the common porod exponent and initial scale values from the second power law fits of the PS data. The porod exponent will be used for the final Guinier_Porod fits, and the scales may change slightly depending on those final fits as well. The `scales` dictionary will get updated as necessary."
   ]
  },
  {
   "cell_type": "code",
   "execution_count": 6,
   "metadata": {},
   "outputs": [],
   "source": [
    "power_law_fit_info = pd.read_json('../data/sans/PS_Fitting/ps_fit_results/power_law_porod_exp_scale/PS_porod_exp_scale-err.json')\n",
    "scales = {}\n",
    "\n",
    "for key, value in power_law_fit_info.items():\n",
    "    if 'porod_exp' in key:\n",
    "        ps_porod_exp = value['best']\n",
    "        ps_porod_95p = value['p95']\n",
    "    else:\n",
    "        key = int(key.split()[0])\n",
    "        scales[key] = (value['best'], value['p95'])"
   ]
  },
  {
   "cell_type": "markdown",
   "metadata": {},
   "source": [
    "Loading the final 's' dimensionality constant of the Guinier_Porod fit, updated scales and final Rg values."
   ]
  },
  {
   "cell_type": "code",
   "execution_count": 7,
   "metadata": {},
   "outputs": [],
   "source": [
    "guinier_porod_fit = pd.read_json('../data/sans/PS_Fitting/ps_fit_results/guinier_porod_s_scale/PS_s_scale-err.json')\n",
    "rgs = {}\n",
    "adjusted_scales = {} # scales from guinier_porod fit corrected to scale of Porod component only\n",
    "for key, value in guinier_porod_fit.items():\n",
    "    if key == 'ps s':\n",
    "        ps_s = value['best']\n",
    "        ps_s_95 = value['p95']\n",
    "    elif 'rg' in key:\n",
    "        key = int(key.split()[0])\n",
    "        rgs[key] = (value['best'], value['p95'])\n",
    "    elif 'scale' in key:\n",
    "        key = int(key.split()[0])\n",
    "        scales[key] = (value['best'], value['p95'])\n",
    "        \n",
    "        \n",
    "for key in rgs.keys():\n",
    "    q1 = (1/rgs[key][0]) * np.sqrt((ps_porod_exp - ps_s)*(3-ps_s)/2)\n",
    "    new_scale = scales[key][0] * np.exp(-1*q1**2*rgs[key][0]**2/(3-ps_s)) * q1**(ps_porod_exp - ps_s)\n",
    "    new_95p = np.array(scales[key][1]) * np.exp(-1*q1**2*rgs[key][0]**2/(3-ps_s)) * q1**(ps_porod_exp - ps_s)\n",
    "    adjusted_scales[key] = (new_scale, list(new_95p))\n",
    "    \n",
    "        "
   ]
  },
  {
   "cell_type": "markdown",
   "metadata": {},
   "source": [
    "## Creating Figures of Polysytrene SANS data with Guinier-Porod Fits"
   ]
  },
  {
   "cell_type": "code",
   "execution_count": 10,
   "metadata": {},
   "outputs": [],
   "source": [
    "os.makedirs('../data/sans/PS_Fitting/ps_fit_results/figures', exist_ok=True)\n",
    "for key in scales.keys():\n",
    "    \n",
    "    plt.figure(figsize=(6,6))\n",
    "    \n",
    "    # determinging whether to use Guinier-Porod (available USANS data) or Porod (no USANS data) model\n",
    "    if key in rgs.keys():\n",
    "        kernel = load_model('guinier_porod')\n",
    "        model = Model(kernel, scale=scales[key][0], rg=rgs[key][0], s=ps_s, porod_exp=ps_porod_exp, background=backgrounds[key][0])\n",
    "    else:\n",
    "        kernel = load_model('power_law')\n",
    "        model = Model(kernel, scale=scales[key][0], power=ps_porod_exp, background=backgrounds[key][0])\n",
    "    \n",
    "    # plotting the SANS data\n",
    "    sans = sans_data[key]\n",
    "    sans.dx = sans.dx - sans.dx\n",
    "    plt.errorbar(sans.x, sans.y, yerr=sans.dy, fmt='o', c='black', zorder=1, ms=4)\n",
    "    sans_experiment = Experiment(data=sans, model=model)\n",
    "    sans_problem = FitProblem(sans_experiment)\n",
    "    \n",
    "    # plotting the fit\n",
    "    plt.plot(sans.x, sans_problem.fitness.theory(), c='yellow', linewidth=2, zorder=10)\n",
    "    \n",
    "    # adding the USANS data and fit if applicable\n",
    "    if key in usans_data.keys():\n",
    "        usans = usans_data[key]\n",
    "        # plotting USANS data\n",
    "        plt.errorbar(usans.x, usans.y, yerr=usans.dy, fmt='o', c='black', zorder=1, ms=4)\n",
    "        usans_experiment = Experiment(data=sans, model=model)\n",
    "        usans_smearing = sasmodels.resolution.Slit1D(usans.x, 0.117)\n",
    "        usans_experiment.resolution = usans_smearing\n",
    "        usans_problem = FitProblem(usans_experiment)\n",
    "        # plotting fit across USANS q-range\n",
    "        plt.plot(usans.x, usans_problem.fitness.theory(), c='yellow', linewidth=2, zorder=10)\n",
    "\n",
    "    # setting plot axes to log scale\n",
    "    plt.xscale('log')\n",
    "    plt.yscale('log')\n",
    "\n",
    "    # adding axis labels\n",
    "    plt.xlabel(r'Q ($\\AA^{-1}$)', fontsize=16)\n",
    "    plt.ylabel(r'I(Q) (cm$^{-1}$)', fontsize=16)\n",
    "\n",
    "    # formatting axis tickmarks\n",
    "    plt.xticks(fontsize=14)\n",
    "    plt.yticks(fontsize=14)\n",
    "\n",
    "    # setting x and y plot limits\n",
    "    plt.ylim(1e-03, 1e11)\n",
    "    plt.xlim(0.00002, 0.3)\n",
    "\n",
    "    # setting plot title\n",
    "    plt.title('Polystyrene-D8 from '+ solvent_names[key] + '\\n(Sample ' + str(key) + ')', fontsize=16)\n",
    "\n",
    "    # formatting and saving figure\n",
    "    plt.tight_layout()\n",
    "    plt.savefig('../data/sans/PS_Fitting/ps_fit_results/figures/PS_' + str(key) + '_Guinier_Porod_Fit.png', dpi=400)\n",
    "    plt.close()\n",
    "\n",
    "\n"
   ]
  },
  {
   "cell_type": "markdown",
   "metadata": {},
   "source": [
    "## Plotting Fitting Results with Uncertainty Analysis"
   ]
  },
  {
   "cell_type": "code",
   "execution_count": 11,
   "metadata": {},
   "outputs": [
    {
     "data": {
      "image/png": "[encoded data removed]",
      "text/plain": [
       "<Figure size 432x432 with 1 Axes>"
      ]
     },
     "metadata": {
      "needs_background": "light"
     },
     "output_type": "display_data"
    }
   ],
   "source": [
    "# Plotting radius of gyration\n",
    "plt.figure(figsize=(6,6))\n",
    "\n",
    "# Samples cast from Bromobenzene\n",
    "plot_keys_bb = []\n",
    "plot_rgs_bb = []\n",
    "plot_95_high_bb = []\n",
    "plot_95_low_bb = []\n",
    "for key in ps_keys:\n",
    "    if (key in rgs.keys() and solvent_names[key] == 'Bromobenzene'):\n",
    "        plot_keys_bb.append(key)\n",
    "        plot_rgs_bb.append(rgs[key][0])\n",
    "        plot_95_high_bb.append(rgs[key][1][1])\n",
    "        plot_95_low_bb.append(rgs[key][1][0])\n",
    "plot_index_bb = np.arange(0,len(plot_keys_bb))\n",
    "plot_middle_bb = (np.array(plot_95_high_bb) + np.array(plot_95_low_bb))/2\n",
    "\n",
    "plt.errorbar(plot_index_bb, np.array(plot_rgs_bb), fmt = 's', c='darkorange', label='Bromobenzene', ms=8)\n",
    "plt.errorbar(plot_index_bb, plot_middle_bb, yerr=plot_95_high_bb-plot_middle_bb, capsize=6, fmt = 'none', c='darkorange', label=None)\n",
    "\n",
    "# Samples cast from Chloroform\n",
    "plot_keys_cf = []\n",
    "plot_rgs_cf = []\n",
    "plot_95_high_cf = []\n",
    "plot_95_low_cf = []\n",
    "for key in ps_keys:\n",
    "    if (key in rgs.keys() and solvent_names[key] == 'Chloroform'):\n",
    "        plot_keys_cf.append(key)\n",
    "        plot_rgs_cf.append(rgs[key][0])\n",
    "        plot_95_high_cf.append(rgs[key][1][1])\n",
    "        plot_95_low_cf.append(rgs[key][1][0])\n",
    "plot_index_cf = np.arange(0,len(plot_keys_cf)) + len(plot_index_bb)\n",
    "plot_middle_cf = (np.array(plot_95_high_cf) + np.array(plot_95_low_cf))/2\n",
    "\n",
    "plt.errorbar(plot_index_cf, np.array(plot_rgs_cf), fmt = '^', c='firebrick', label='Chloroform', ms=8)\n",
    "plt.errorbar(plot_index_cf, plot_middle_cf, yerr=plot_95_high_cf-plot_middle_cf, capsize=6, fmt = 'none', c='firebrick', label=None)\n",
    "\n",
    "# Samples cast from Toluene\n",
    "plot_keys_tol = []\n",
    "plot_rgs_tol = []\n",
    "plot_95_high_tol = []\n",
    "plot_95_low_tol = []\n",
    "for key in ps_keys:\n",
    "    if (key in rgs.keys() and solvent_names[key] == 'Toluene'):\n",
    "        plot_keys_tol.append(key)\n",
    "        plot_rgs_tol.append(rgs[key][0])\n",
    "        plot_95_high_tol.append(rgs[key][1][1])\n",
    "        plot_95_low_tol.append(rgs[key][1][0])\n",
    "plot_index_tol = np.arange(0,len(plot_keys_tol)) + plot_index_cf[-1] + 1\n",
    "plot_middle_tol = (np.array(plot_95_high_tol) + np.array(plot_95_low_tol))/2\n",
    "\n",
    "plt.errorbar(plot_index_tol, np.array(plot_rgs_tol), fmt = 'o', c='darkcyan', label='Toluene', ms=8)\n",
    "plt.errorbar(plot_index_tol, plot_middle_tol, yerr=plot_95_high_tol-plot_middle_tol, capsize=6, fmt = 'none', c='darkcyan', label=None)\n",
    "\n",
    "\n",
    "# Samples cast from Chloroform - Slow Dry\n",
    "plot_keys_cf_slow = []\n",
    "plot_rgs_cf_slow = []\n",
    "plot_95_high_cf_slow = []\n",
    "plot_95_low_cf_slow = []\n",
    "for key in ps_keys:\n",
    "    if (key in rgs.keys() and solvent_names[key] == 'Slow Dry Chloroform'):\n",
    "        plot_keys_cf_slow.append(key)\n",
    "        plot_rgs_cf_slow.append(rgs[key][0])\n",
    "        plot_95_high_cf_slow.append(rgs[key][1][1])\n",
    "        plot_95_low_cf_slow.append(rgs[key][1][0])\n",
    "plot_index_cf_slow = np.arange(0,len(plot_keys_cf_slow)) + plot_index_tol[-1] + 1\n",
    "plot_middle_cf_slow = (np.array(plot_95_high_cf_slow) + np.array(plot_95_low_cf_slow))/2\n",
    "\n",
    "plt.errorbar(plot_index_cf_slow, np.array(plot_rgs_cf_slow), fmt = 'D', c='forestgreen', label = 'Slow Dry Chloroform', ms=8)\n",
    "plt.errorbar(plot_index_cf_slow, plot_middle_cf_slow, yerr=plot_95_high_cf_slow-plot_middle_cf_slow, capsize=6, fmt = 'none', c='forestgreen', label=None)\n",
    "   \n",
    "plt.errorbar([-10], [-10], yerr=[20], capsize=6, fmt = 'none', c='black', label='95% Confidence Interval')\n",
    "\n",
    "\n",
    "# Formatting and Saving the Plot\n",
    "plt.xlabel(r'Sample Number', fontsize=16)\n",
    "plt.ylabel(r'Radius of Gyration ($\\AA$)', fontsize=16)\n",
    "\n",
    "plot_index_all = np.hstack((plot_index_bb, plot_index_cf, plot_index_tol, plot_index_cf_slow))\n",
    "plot_keys_all = plot_keys_bb + plot_keys_cf + plot_keys_tol + plot_keys_cf_slow\n",
    "plt.xticks(ticks=plot_index_all, labels=plot_keys_all, fontsize=14)\n",
    "plt.yticks(fontsize=14)\n",
    "\n",
    "plt.ylim(0,1000)\n",
    "plt.xlim(-0.5,plot_index_cf_slow[-1]+0.5)\n",
    "\n",
    "plt.legend(fontsize=12)\n",
    "\n",
    "plt.title('Polystyrene-D8 Guinier-Porod\\nFit Parameters', fontsize=16)\n",
    "\n",
    "plt.tight_layout()\n",
    "plt.savefig('../data/sans/PS_Fitting/ps_fit_results/figures/PS_Rg.png', dpi=400)\n",
    "\n",
    "\n"
   ]
  },
  {
   "cell_type": "code",
   "execution_count": 12,
   "metadata": {},
   "outputs": [
    {
     "data": {
      "image/png": "[encoded data removed]",
      "text/plain": [
       "<Figure size 432x432 with 1 Axes>"
      ]
     },
     "metadata": {
      "needs_background": "light"
     },
     "output_type": "display_data"
    }
   ],
   "source": [
    "#Plotting Porod Exponent and 's' dimensionality constant\n",
    "plt.figure(figsize=(6,6))\n",
    "\n",
    "param_index = [1,2]\n",
    "param_values = [ps_porod_exp, ps_s]\n",
    "param_upper = np.array([ps_porod_95p[1], ps_s_95[1]])\n",
    "param_lower = np.array([ps_porod_95p[0], ps_s_95[0]])\n",
    "param_middle = (param_upper + param_lower)/2\n",
    "param_labels = ['Porod Exponent', 's']\n",
    "\n",
    "plt.errorbar(param_index, param_values, fmt='o', label=None, color='black', ms=8)\n",
    "plt.errorbar(param_index, param_middle, yerr=param_upper-param_middle, color='black', capsize=6, fmt='none', label='95% Confidence Interval')\n",
    "\n",
    "plt.xlabel(r'Parameter', fontsize=16)\n",
    "plt.ylabel(r'Scale', fontsize=16)\n",
    "\n",
    "plt.xticks(ticks=param_index, labels=param_labels, fontsize=14)\n",
    "plt.yticks(fontsize=14)\n",
    "\n",
    "plt.ylim(1,4)\n",
    "plt.xlim(0.5,2.5)\n",
    "\n",
    "plt.legend(fontsize=12)\n",
    "\n",
    "plt.title('Polystyrene-D8\\nGuinier-Porod & Power Law\\nFit Parameters', fontsize=16)\n",
    "\n",
    "plt.tight_layout()\n",
    "plt.savefig('../data/sans/PS_Fitting/ps_fit_results/figures/PS_porod_s.png', dpi=400)\n"
   ]
  },
  {
   "cell_type": "code",
   "execution_count": 13,
   "metadata": {},
   "outputs": [
    {
     "name": "stdout",
     "output_type": "stream",
     "text": [
      "0.022135740687458265\n",
      "0.006851530433955453\n",
      "0.001497672625675992\n",
      "0.001634772963756195\n",
      "0.002289784429454573\n",
      "0.002825117360033294\n"
     ]
    }
   ],
   "source": [
    "for key in rgs.keys():\n",
    "    rg = rgs[key][0]\n",
    "    q1 = (1/rg)*np.sqrt((ps_porod_exp-ps_s)*(3-ps_s)/2)\n",
    "    print(q1)"
   ]
  },
  {
   "cell_type": "code",
   "execution_count": null,
   "metadata": {},
   "outputs": [],
   "source": []
  }
 ],
 "metadata": {
  "kernelspec": {
   "display_name": "Python [conda env:sasmodels2] *",
   "language": "python",
   "name": "conda-env-sasmodels2-py"
  },
  "language_info": {
   "codemirror_mode": {
    "name": "ipython",
    "version": 3
   },
   "file_extension": ".py",
   "mimetype": "text/x-python",
   "name": "python",
   "nbconvert_exporter": "python",
   "pygments_lexer": "ipython3",
   "version": "3.8.2"
  }
 },
 "nbformat": 4,
 "nbformat_minor": 4
}

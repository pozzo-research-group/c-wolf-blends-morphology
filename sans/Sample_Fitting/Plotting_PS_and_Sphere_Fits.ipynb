{
 "cells": [
  {
   "cell_type": "code",
   "execution_count": 18,
   "metadata": {},
   "outputs": [],
   "source": [
    "import numpy as np\n",
    "import pandas as pd\n",
    "import os\n",
    "import matplotlib.pyplot as plt\n",
    "\n",
    "from bumps.names import *\n",
    "from bumps.fitters import fit\n",
    "\n",
    "import sasmodels\n",
    "import bumps\n",
    "\n",
    "from sasmodels.core import load_model\n",
    "from sasmodels.bumps_model import Model, Experiment\n",
    "from sasmodels.data import load_data, plot_data, empty_data1D\n",
    "from sasmodels.direct_model import DirectModel\n",
    "\n",
    "import sas"
   ]
  },
  {
   "cell_type": "code",
   "execution_count": 19,
   "metadata": {},
   "outputs": [],
   "source": [
    "true_reads = pd.read_csv('../../data/sans/Fit_Truths.csv')\n",
    "true_reads = true_reads.to_numpy()\n",
    "mask = true_reads[:,1].astype(bool)\n",
    "\n",
    "sphere_keys = true_reads[mask,0]"
   ]
  },
  {
   "cell_type": "code",
   "execution_count": 20,
   "metadata": {},
   "outputs": [],
   "source": [
    "true_reads = pd.read_csv('../../data/sans/Fit_Finals.csv')\n",
    "true_reads = true_reads.to_numpy()\n",
    "mask = np.where(true_reads[:,1]=='Sphere')[0]\n",
    "\n",
    "final_keys = true_reads[mask,0]"
   ]
  },
  {
   "cell_type": "code",
   "execution_count": 21,
   "metadata": {},
   "outputs": [
    {
     "data": {
      "text/plain": [
       "array([1, 6, 7, 8, 9, 11, 12, 13, 16, 22, 25, 32, 203, 501, 502, 503],\n",
       "      dtype=object)"
      ]
     },
     "execution_count": 21,
     "metadata": {},
     "output_type": "execute_result"
    }
   ],
   "source": [
    "final_keys"
   ]
  },
  {
   "cell_type": "code",
   "execution_count": 22,
   "metadata": {},
   "outputs": [],
   "source": [
    "# sample meta-data\n",
    "sample_info = pd.read_csv('../../data/sans/Sample_Info.csv')\n",
    "\n",
    "# helpful meta-data dictionaries\n",
    "names = dict(zip(sample_info['Sample'], sample_info['Name']))\n",
    "cps = dict(zip(sample_info['Sample'], sample_info['Conjugated Polymer']))\n",
    "matrix = dict(zip(sample_info['Sample'], sample_info['Commodity Polymer']))\n",
    "solvent_names = dict(zip(sample_info['Sample'], sample_info['Solvent']))\n",
    "\n",
    "# target weight percents of conjugated polymer\n",
    "target = dict(zip(sample_info['Sample'], sample_info['Target Fraction']*100))\n",
    "\n",
    "# fixing 401/402 and 403/404 sample pair target values for plotting colors only\n",
    "target[401] = 0.5\n",
    "target[402] = 0.1\n",
    "target[403] = 5\n",
    "target[404] = 1\n",
    "\n",
    "# actual weight percentages\n",
    "data = np.loadtxt('../../data/uv_vis/Corrected_wtPercents.csv', delimiter=',', skiprows=1)\n",
    "actual = {}\n",
    "actual_stdev = {}\n",
    "actual_vol = {}\n",
    "actual_stdev_vol = {}\n",
    "for key, tar, act, stdev, act_vol, stdev_vol in data:\n",
    "    actual[key] = act\n",
    "    actual_stdev[key] = stdev\n",
    "    actual_vol[key] = act_vol\n",
    "    actual_stdev_vol[key] = stdev_vol\n",
    "    \n",
    "slds = {'RRe-P3HT':0.676,\n",
    "       'RRa-P3HT':0.676,\n",
    "       'P3DDT':0.316,\n",
    "       'PQT-12':0.676,\n",
    "       'Polystyrene-D8':6.464, # density 1.13\n",
    "       'Polystyrene-H8':1.426}\n"
   ]
  },
  {
   "cell_type": "code",
   "execution_count": 23,
   "metadata": {},
   "outputs": [],
   "source": [
    "data_dir = '../../data/sans/Smeared_Data_20200629/'\n",
    "files = os.listdir(data_dir)\n",
    "sans_data = {}\n",
    "usans_data = {}\n",
    "for file in files:\n",
    "    if 'USANS' in file:\n",
    "        key = int(file.split('_')[0][3:])\n",
    "        usans_data[key] = load_data(data_dir + file)\n",
    "    elif 'SANS' in file:\n",
    "        key = int(file.split('_')[0][3:])\n",
    "        sans_data[key] = load_data(data_dir + file)"
   ]
  },
  {
   "cell_type": "markdown",
   "metadata": {},
   "source": [
    "Loading polystyrene fit information."
   ]
  },
  {
   "cell_type": "code",
   "execution_count": 24,
   "metadata": {},
   "outputs": [],
   "source": [
    "background_files = [file for file in os.listdir('../../data/sans/PS_Fitting/ps_fit_results/power_law_background') if 'json' in file]\n",
    "backgrounds = {} # key is sample key, value is ('best', '95% confidence interval')\n",
    "for file in background_files:\n",
    "    data_read = pd.read_json('../../data/sans/PS_Fitting/ps_fit_results/power_law_background/' + file)\n",
    "    key = int(file.split('_')[0][3:])\n",
    "    p95 = data_read.loc['p95',str(key) + ' background']\n",
    "    backgrounds[key] = (data_read.loc['best',str(key) + ' background'], p95)"
   ]
  },
  {
   "cell_type": "code",
   "execution_count": 25,
   "metadata": {},
   "outputs": [],
   "source": [
    "power_law_fit_info = pd.read_json('../../data/sans/PS_Fitting/ps_fit_results/power_law_porod_exp_scale/PS_porod_exp_scale-err.json')\n",
    "ps_scales = {}\n",
    "\n",
    "for key, value in power_law_fit_info.items():\n",
    "    if 'porod_exp' in key:\n",
    "        ps_porod_exp = value['best']\n",
    "        ps_porod_exp_95 = value['p95']\n",
    "    else:\n",
    "        key = int(key.split()[0])\n",
    "        ps_scales[key] = (value['best'], value['p95'])"
   ]
  },
  {
   "cell_type": "code",
   "execution_count": 26,
   "metadata": {},
   "outputs": [],
   "source": [
    "guinier_porod_fit = pd.read_json('../../data/sans/PS_Fitting/ps_fit_results/guinier_porod_s_scale/PS_s_scale-err.json')\n",
    "rgs = {}\n",
    "adjusted_scales = {}\n",
    "for key, value in guinier_porod_fit.items():\n",
    "    if key == 'ps s':\n",
    "        ps_s = value['best']\n",
    "        ps_s_95 = value['p95']\n",
    "    elif 'rg' in key:\n",
    "        key = int(key.split()[0])\n",
    "        rgs[key] = (value['best'], value['p95'])\n",
    "    elif 'scale' in key:\n",
    "        key = int(key.split()[0])\n",
    "        ps_scales[key] = (value['best'], value['p95'])\n",
    "        \n",
    "for key in rgs.keys():\n",
    "    q1 = (1/rgs[key][0]) * np.sqrt((ps_porod_exp - ps_s)*(3-ps_s)/2)\n",
    "    new_scale = ps_scales[key][0] * np.exp(-1*q1**2*rgs[key][0]**2/(3-ps_s)) * q1**(ps_porod_exp - ps_s)\n",
    "    new_95p = np.array(ps_scales[key][1]) * np.exp(-1*q1**2*rgs[key][0]**2/(3-ps_s)) * q1**(ps_porod_exp - ps_s)\n",
    "    adjusted_scales[key] = (new_scale, list(new_95p))"
   ]
  },
  {
   "cell_type": "code",
   "execution_count": 27,
   "metadata": {},
   "outputs": [],
   "source": [
    "avg_rg = np.average([x[0] for x in rgs.values()])\n",
    "max_rg = np.max([x[1][1] for x in rgs.values()])\n",
    "min_rg = np.min([x[1][0] for x in rgs.values()])"
   ]
  },
  {
   "cell_type": "code",
   "execution_count": 28,
   "metadata": {},
   "outputs": [],
   "source": [
    "avg_scale = np.average([x[0] for y, x in ps_scales.items() if y in rgs.keys()])\n",
    "max_scale = np.average([x[1][1] for y, x in ps_scales.items() if y in rgs.keys()])\n",
    "min_scale = np.average([x[1][0] for y, x in ps_scales.items() if y in rgs.keys()])\n"
   ]
  },
  {
   "cell_type": "markdown",
   "metadata": {},
   "source": [
    "Loading the Porod analysis results, we will only utilize the previously determined background values to minimize the fitting here."
   ]
  },
  {
   "cell_type": "code",
   "execution_count": 29,
   "metadata": {},
   "outputs": [],
   "source": [
    "porod_files = [file for file in os.listdir('../../data/sans/Porod_analysis/porod_results') if 'json' in file]\n",
    "\n",
    "for file in porod_files:\n",
    "    data_read = pd.read_json('../../data/sans/Porod_analysis/porod_results/' + file)\n",
    "    key = int(file.split('_')[0][3:])\n",
    "    for column, value in data_read.items():\n",
    "        if 'background' in column:\n",
    "            backgrounds[key] = (value['best'], value['p95']) "
   ]
  },
  {
   "cell_type": "markdown",
   "metadata": {},
   "source": [
    "Loading fit parameters from the results directory."
   ]
  },
  {
   "cell_type": "code",
   "execution_count": 30,
   "metadata": {},
   "outputs": [],
   "source": [
    "results_direct = '../../data/sans/Sample_Fitting/fitting_results/ps_sphere/'\n",
    "fit_keys = []\n",
    "# fit_ps_porod_exp = {}\n",
    "# fit_ps_rg = {}\n",
    "# fit_ps_s = {}\n",
    "# fit_ps_scale = {}\n",
    "fit_sphere_radius= {}\n",
    "fit_sphere_scale = {}\n",
    "\n",
    "for file in [file for file in os.listdir(results_direct) if '.json' in file]:\n",
    "    data_read = pd.read_json(results_direct + file)\n",
    "    key = int(file.split('_')[0][3:])\n",
    "    fit_keys.append(key)\n",
    "    for pd_key, value in data_read.items():\n",
    "#         if 'porod_exp' in pd_key:\n",
    "#             best = value['best']\n",
    "#             ci95 = value['p95']\n",
    "#             fit_ps_porod_exp[key] = (best, ci95)\n",
    "#         elif 'rg' in pd_key:\n",
    "#             best = value['best']\n",
    "#             ci95 = value['p95']\n",
    "#             fit_ps_rg[key] = (best, ci95)\n",
    "#         elif 'PS scale' in pd_key:\n",
    "#             best = value['best']\n",
    "#             ci95 = value['p95']\n",
    "#             fit_ps_scale[key] = (best, ci95)\n",
    "#         elif 'PS s' in pd_key:\n",
    "#             best = value['best']\n",
    "#             ci95 = value['p95']\n",
    "#             fit_ps_s[key] = (best, ci95)\n",
    "        if 'radius' in pd_key:\n",
    "            best = value['best']\n",
    "            ci95 = value['p95']\n",
    "            fit_sphere_radius[key] = (best, ci95)\n",
    "        elif 'sphere scale' in pd_key:\n",
    "            best = value['best']\n",
    "            ci95 = value['p95']\n",
    "            fit_sphere_scale[key] = (best, ci95)\n",
    "        \n"
   ]
  },
  {
   "cell_type": "markdown",
   "metadata": {},
   "source": [
    "Convenient dictionaries for plotting."
   ]
  },
  {
   "cell_type": "code",
   "execution_count": 31,
   "metadata": {},
   "outputs": [],
   "source": [
    "# useful dictionaries with labels and colors for the plots and their legends\n",
    "wt_names = {} \n",
    "full_names = {}\n",
    "\n",
    "wt_colors = {}\n",
    "solvent_colors = {}\n",
    "cp_colors = {}\n",
    "\n",
    "rep_colors = {}\n",
    "rep_names = {}\n",
    "\n",
    "temp_wt_colors = {\n",
    "    0.1: 'firebrick',\n",
    "    0.5: 'darkorange',\n",
    "    1.0: 'darkcyan',\n",
    "    5.0: 'mediumblue',\n",
    "    10.0: 'deeppink',\n",
    "    25.0: 'darkorchid',\n",
    "    50.0: 'forestgreen',\n",
    "    0.0: 'black'\n",
    "}\n",
    "\n",
    "temp_solvent_colors = {\n",
    "    'Chloroform': 'firebrick',\n",
    "    'Bromobenzene': 'darkorange',\n",
    "    'Toluene': 'darkcyan',\n",
    "    'Slow Dry Chloroform': 'forestgreen'\n",
    "}\n",
    "\n",
    "temp_cp_colors = {\n",
    "    'RRe-P3HT': 'firebrick',\n",
    "    'RRa-P3HT': 'darkorange',\n",
    "    'P3DDT': 'forestgreen',\n",
    "    'PQT-12': 'darkcyan',\n",
    "    'None': 'black'\n",
    "}\n",
    "\n",
    "for key in names.keys():\n",
    "    if key in actual.keys():\n",
    "        frac = actual[key]\n",
    "    else:\n",
    "        frac = target[key]\n",
    "    frac = np.round(frac,2)\n",
    "    \n",
    "    if cps[key] == 'None':\n",
    "        wt_names[key] = matrix[key] + ' Control'\n",
    "        full_names[key] = matrix[key] + ' Control'\n",
    "    else:\n",
    "        wt_names[key] = str(frac) + ' wt% ' + cps[key]\n",
    "        full_names[key] = str(frac) + ' wt% ' + cps[key] + ' in ' + matrix[key] + '\\nfrom ' + solvent_names[key]\n",
    "        \n",
    "for key in cps.keys():\n",
    "    wt_colors[key] = temp_wt_colors[target[key]]\n",
    "    solvent_colors[key] = temp_solvent_colors[solvent_names[key]]\n",
    "    cp_colors[key] = temp_cp_colors[cps[key]]\n"
   ]
  },
  {
   "cell_type": "code",
   "execution_count": 32,
   "metadata": {},
   "outputs": [],
   "source": [
    "for key in fit_keys:\n",
    "    \n",
    "    plt.figure(figsize=(6,6))\n",
    "    \n",
    "    kernel = load_model('guinier_porod+sphere')\n",
    "\n",
    "    vol = actual_vol[key]/100 # cp volume fraction from uv-vis\n",
    "    vol_stdev = actual_stdev_vol[key]/100\n",
    "    \n",
    "    # model parameters\n",
    "    \n",
    "    scale = Parameter(1, name=str(key) + 'scale')\n",
    "    background = Parameter(backgrounds[key][0], name=str(key) + 'background')\n",
    "    \n",
    "    A_scale = Parameter(avg_scale*(1-vol), name=str(key) + ' PS scale')\n",
    "    A_rg = Parameter(avg_rg, name=str(key) + ' PS rg')\n",
    "    A_s = Parameter(ps_s, name=str(key) + ' PS s')\n",
    "    A_porod_exp = Parameter(ps_porod_exp, name=str(key) + ' PS porod_exp')\n",
    "    \n",
    "    B_scale = Parameter(fit_sphere_scale[key][0], name=str(key) + ' sphere scale')\n",
    "    \n",
    "    B_sld = Parameter(slds[cps[key]], name=str(key) + ' PS sld')\n",
    "    B_sld_solvent = Parameter(slds[matrix[key]], name=str(key) + ' PS solvent')\n",
    "    \n",
    "    B_radius = Parameter(fit_sphere_radius[key][0], limits=[0,inf], name=str(key) + ' sphere radius')\n",
    "    B_radius_pd = Parameter(0.5, name = str(key) + ' sphere radius pd')\n",
    "    B_radius_pd_n = Parameter(200, name = str(key) + ' sphere radius pd n')\n",
    "    B_radius_pd_nsigma = Parameter(8, name = str(key) + ' sphere radius pd nsigma') \n",
    "    \n",
    "    # setting up the combined model for plotting\n",
    "    sans_model = Model(\n",
    "        model=kernel,\n",
    "        scale=scale,\n",
    "        background=background,\n",
    "        A_scale=A_scale,\n",
    "        A_rg=A_rg,\n",
    "        A_s=A_s,\n",
    "        A_porod_exp=A_porod_exp,\n",
    "        B_scale=B_scale,\n",
    "        B_sld=B_sld,\n",
    "        B_sld_solvent=B_sld_solvent,\n",
    "        B_radius=B_radius,\n",
    "        B_radius_pd_type='lognormal',\n",
    "        B_radius_pd=B_radius_pd,\n",
    "        B_radius_pd_n=B_radius_pd_n,\n",
    "        B_radius_pd_nsigma=B_radius_pd_nsigma,\n",
    "    )\n",
    "    \n",
    "    \n",
    "    sans = sans_data[key]\n",
    "    sans.dx = sans.dx - sans.dx\n",
    "    plt.errorbar(sans.x, sans.y, yerr=sans.dy, fmt='o', c='black', zorder=1, ms=4, mfc='white', mec='black')\n",
    "    \n",
    "    usans = usans_data[key]\n",
    "    plt.errorbar(usans.x, usans.y, yerr=usans.dy, fmt='o', c='black', zorder=1, ms=4, mfc='white', mec='black')\n",
    "    \n",
    "    sans_experiment=Experiment(data=sans, model=sans_model)\n",
    "    usans_experiment=Experiment(data=usans, model=sans_model)\n",
    "\n",
    "    usans_smearing = sasmodels.resolution.Slit1D(usans.x, 0.117)\n",
    "    usans_experiment.resolution = usans_smearing\n",
    "\n",
    "    sans_problem=FitProblem(sans_experiment)\n",
    "    usans_problem=FitProblem(usans_experiment)\n",
    "    \n",
    "    plt.plot(sans.x, sans_problem.fitness.theory(), c='firebrick', linewidth=3, zorder=10)\n",
    "    plt.plot(usans.x, usans_problem.fitness.theory(), c='firebrick', linewidth=3, zorder=10)\n",
    "\n",
    "    plt.xscale('log')\n",
    "    plt.yscale('log')\n",
    "\n",
    "    plt.xlabel(r'Q ($\\AA^{-1}$)', fontsize=16)\n",
    "    plt.ylabel(r'I(Q) (cm$^{-1}$)', fontsize=16)\n",
    "\n",
    "    plt.xticks(fontsize=14)\n",
    "    plt.yticks(fontsize=14)\n",
    "\n",
    "    plt.ylim(1e-03, 1e11)\n",
    "    plt.xlim(0.00002, 0.3)\n",
    "\n",
    "    plt.title(full_names[key] + ' (Sample ' + str(key) + ')', fontsize=16)\n",
    "\n",
    "    #plt.show()\n",
    "    plt.tight_layout()\n",
    "    plt.savefig('../../data/sans/Sample_Fitting/fitting_figures/ps_sphere/CMW' + str(key) + '_PS_Sphere_Fit.png', dpi=400)\n",
    "    plt.close()\n",
    "\n",
    "\n"
   ]
  },
  {
   "cell_type": "code",
   "execution_count": null,
   "metadata": {},
   "outputs": [],
   "source": []
  }
 ],
 "metadata": {
  "kernelspec": {
   "display_name": "Python [conda env:sasmodels2] *",
   "language": "python",
   "name": "conda-env-sasmodels2-py"
  },
  "language_info": {
   "codemirror_mode": {
    "name": "ipython",
    "version": 3
   },
   "file_extension": ".py",
   "mimetype": "text/x-python",
   "name": "python",
   "nbconvert_exporter": "python",
   "pygments_lexer": "ipython3",
   "version": "3.8.2"
  }
 },
 "nbformat": 4,
 "nbformat_minor": 4
}

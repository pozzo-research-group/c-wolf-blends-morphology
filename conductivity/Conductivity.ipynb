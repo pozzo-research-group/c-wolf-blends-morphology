{
 "cells": [
  {
   "cell_type": "code",
   "execution_count": 2,
   "metadata": {},
   "outputs": [],
   "source": [
    "import copy\n",
    "import datetime\n",
    "import sys\n",
    "import matplotlib.pyplot as plt\n",
    "import numpy as np\n",
    "import pandas as pd\n",
    "import bumps\n",
    "\n",
    "import os\n",
    "import math\n",
    "\n",
    "from numpy import exp, linspace, random\n",
    "from scipy.optimize import curve_fit\n",
    "\n",
    "# put the path here to parent folder which should include this script, the conductivity data, and meta-data\n",
    "path = r\"/Users/lorte/Google Drive/Python_Scripts/conductivity\""
   ]
  },
  {
   "cell_type": "code",
   "execution_count": 6,
   "metadata": {},
   "outputs": [],
   "source": [
    "\"\"\"\n",
    "Loading in the data and meta-data, do not edit unless necessary for os differences.\n",
    "\"\"\"\n",
    "# sample meta-data\n",
    "info_path = path + \"/Sample_Info.csv\"\n",
    "corrected_path = path + \"/Corrected_wtPercents.csv\"\n",
    "sample_info = pd.read_csv(info_path)\n",
    "corrected_info = pd.read_csv(corrected_path)\n",
    "names = {}\n",
    "cps = {}\n",
    "matrix = {}\n",
    "solvent_names = {}\n",
    "target = {}  # target weight fraction of conjugated polymer\n",
    "actual = {} # corrected weight fraction of conjugated polymer from UV-vis data\n",
    "\n",
    "for index, row in sample_info.iterrows():\n",
    "    sam_no = int(row['Sample'])\n",
    "    names[sam_no] = row['Name']\n",
    "    cps[sam_no] = row['Conjugated Polymer']\n",
    "    matrix[sam_no] = row['Commodity Polymer']\n",
    "    solvent_names[sam_no] = row['Solvent']\n",
    "    # change this if target fraction is already in wt percent, rather than wt fraction\n",
    "    target[sam_no] = float(row['Target Fraction'])*100\n",
    "for index, row in corrected_info.iterrows():\n",
    "    sam_no = int(row['Sample'])\n",
    "    # change this if actual fraction is already in wt percent rather than wt fraction\n",
    "    actual[sam_no] = float(row['average actual wt pct'])"
   ]
  },
  {
   "cell_type": "code",
   "execution_count": 35,
   "metadata": {},
   "outputs": [],
   "source": [
    "\"\"\"\n",
    "Importing conductivity data\n",
    "\"\"\"\n",
    "\n",
    "#name of the file in the folder that holds the conductivity data\n",
    "conductivity_file= 'conductivity.csv'\n",
    "data_path = path + '/' + conductivity_file\n",
    "\n",
    "#importing into dictionary: {sampleno:measurement}\n",
    "con_data = {}\n",
    "file = open(data_path, 'r')\n",
    "the_lines = file.readlines()[1:]\n",
    "for each in the_lines:\n",
    "    split_line = each.split(\",\")\n",
    "    if split_line[4][:-1] != 'None':\n",
    "        con_data[int(split_line[0])] = float(split_line[4][:-1])"
   ]
  },
  {
   "cell_type": "code",
   "execution_count": 43,
   "metadata": {},
   "outputs": [
    {
     "name": "stdout",
     "output_type": "stream",
     "text": [
      "figures path already exists\n"
     ]
    }
   ],
   "source": [
    "# useful dictionaries with labels and colors for the plots and their legends\n",
    "wt_names = {} \n",
    "full_names = {}\n",
    "\n",
    "wt_colors = {}\n",
    "solvent_colors = {}\n",
    "cp_colors = {}\n",
    "\n",
    "rep_colors = {}\n",
    "rep_names = {}\n",
    "\n",
    "fraction = {}\n",
    "\n",
    "temp_wt_colors = {\n",
    "    0.1: 'firebrick',\n",
    "    0.5: 'darkorange',\n",
    "    1.0: 'darkcyan',\n",
    "    5.0: 'mediumblue',\n",
    "    10.0: 'deeppink',\n",
    "    25.0: 'darkorchid',\n",
    "    50.0: 'forestgreen',\n",
    "    0.0: 'black'\n",
    "}\n",
    "\n",
    "temp_solvent_colors = {\n",
    "    'Chloroform': 'firebrick',\n",
    "    'Bromobenzene': 'darkorange',\n",
    "    'Toluene': 'darkcyan',\n",
    "    'Slow Dry Chloroform': 'darkorchid'\n",
    "}\n",
    "\n",
    "temp_cp_colors = {\n",
    "    'RRe-P3HT': 'firebrick',\n",
    "    'RRa-P3HT': 'darkorange',\n",
    "    'P3DDT': 'darkorchid',\n",
    "    'PQT-12': 'darkcyan',\n",
    "    'None': 'black'\n",
    "}\n",
    "\n",
    "cp_marks = {\n",
    "    'RRe-P3HT': 'o',\n",
    "    'RRa-P3HT': '^',\n",
    "    'P3DDT': 's',\n",
    "    'PQT-12': 'D',\n",
    "}\n",
    "\n",
    "for key in names.keys():\n",
    "    if key in actual.keys():\n",
    "        frac = actual[key]\n",
    "        fraction[key] = actual[key]\n",
    "    else:\n",
    "        frac = target[key]\n",
    "        fraction[key] = target[key]\n",
    "    frac = np.round(frac,2)\n",
    "    \n",
    "    if cps[key] == 'None':\n",
    "        wt_names[key] = matrix[key] + ' Control'\n",
    "        full_names[key] = matrix[key] + ' Control'\n",
    "    else:\n",
    "        wt_names[key] = str(frac) + ' wt% ' + cps[key]\n",
    "        full_names[key] = str(frac) + ' wt% ' + cps[key] + ' in ' + matrix[key]\n",
    "        \n",
    "for key in cps.keys():\n",
    "    wt_colors[key] = temp_wt_colors[target[key]]\n",
    "    solvent_colors[key] = temp_solvent_colors[solvent_names[key]]\n",
    "    cp_colors[key] = temp_cp_colors[cps[key]]\n",
    "\n",
    "solubility = {}\n",
    "solubility['Bromobenzene'] = 84.1\n",
    "solubility['Chloroform'] = 14.1\n",
    "solubility['Toluene'] = 0.7\n",
    "solubility['Slow Dry Chloroform'] = 14.1\n",
    "\n",
    "polarity = {}\n",
    "polarity['Bromobenzene'] = 5.17\n",
    "polarity['Chloroform'] = 4.81\n",
    "polarity['Toluene'] = 2.38\n",
    "polarity['Slow Dry Chloroform'] = 4.81\n",
    "\n",
    "figure_path = path +'/figures'\n",
    "if 'figures' in os.listdir(path):\n",
    "    print('figures path already exists')\n",
    "else:\n",
    "    os.mkdir(figure_path)"
   ]
  },
  {
   "cell_type": "code",
   "execution_count": 51,
   "metadata": {},
   "outputs": [
    {
     "data": {
      "image/png": "[encoded data removed]",
      "text/plain": [
       "<Figure size 432x432 with 1 Axes>"
      ]
     },
     "metadata": {
      "needs_background": "light"
     },
     "output_type": "display_data"
    }
   ],
   "source": [
    "samplelist = []\n",
    "for num in con_data:\n",
    "    if cps[num] == 'RRe-P3HT':\n",
    "        samplelist.append(num)\n",
    "\n",
    "name_of_figure = 'conductivity of all RRe-P3HT'\n",
    "filename = figure_path + '/' + name_of_figure\n",
    "plt.figure(figsize=(6,6))\n",
    "for num in samplelist:\n",
    "    x = fraction[num]\n",
    "    y = con_data[num]\n",
    "    plt.errorbar(x, y, fmt=cp_marks[cps[num]] , c = solvent_colors[num], ms=8)\n",
    "\n",
    "\n",
    "plt.errorbar([0],[0],fmt = 'o',label='Chloroform', c= temp_solvent_colors['Chloroform'],ms=8)\n",
    "plt.errorbar([0],[0],fmt = 'o',label='Bromobenzene', c= temp_solvent_colors['Bromobenzene'],ms=8)\n",
    "plt.errorbar([0],[0],fmt = 'o',label='Slow Dry Chloroform', c= temp_solvent_colors['Slow Dry Chloroform'],ms=8)\n",
    "plt.errorbar([0],[0],fmt = 'o',label='Toluene', c= temp_solvent_colors['Toluene'],ms=8)        \n",
    "   \n",
    "plt.xlabel('Conjugated Polymer wt%', fontsize=16)\n",
    "plt.ylabel('Conductivity (S/m)', fontsize=16)\n",
    "\n",
    "plt.xticks(fontsize=14)\n",
    "plt.yticks(fontsize=14)\n",
    "\n",
    "#plt.xscale('log')\n",
    "plt.yscale('log')\n",
    "\n",
    "plt.title('Conductivity Measurements RRe-P3HT',fontsize=16)\n",
    "\n",
    "plt.legend(fontsize=12,loc='upper left',title=None, title_fontsize=12)# ncol=3)\n",
    "\n",
    "plt.tight_layout()\n",
    "plt.savefig(filename, dpi=300, bbox_inches='tight')"
   ]
  },
  {
   "cell_type": "code",
   "execution_count": 53,
   "metadata": {},
   "outputs": [
    {
     "data": {
      "image/png": "[encoded data removed]",
      "text/plain": [
       "<Figure size 432x432 with 1 Axes>"
      ]
     },
     "metadata": {
      "needs_background": "light"
     },
     "output_type": "display_data"
    }
   ],
   "source": [
    "samplelist = []\n",
    "for num in con_data:\n",
    "    if solvent_names[num] == 'Chloroform':\n",
    "        samplelist.append(num)\n",
    "\n",
    "name_of_figure = 'conductivity of all chloroform'\n",
    "filename = figure_path + '/' + name_of_figure\n",
    "plt.figure(figsize=(6,6))\n",
    "label_counter = []\n",
    "for num in samplelist:\n",
    "    x = fraction[num]\n",
    "    y = con_data[num]\n",
    "    plt.errorbar(x, y, fmt='o' , c = cp_colors[num], ms=8)\n",
    "\n",
    "\n",
    "plt.errorbar([0],[0],fmt='o',label='RRe P3HT', c = temp_cp_colors['RRe-P3HT'],ms=8)\n",
    "plt.errorbar([0],[0],fmt='o',label='RRa P3HT', c = temp_cp_colors['RRa-P3HT'],ms=8)\n",
    "plt.errorbar([0],[0],fmt='o',label='P3DDT', c = temp_cp_colors['P3DDT'],ms=8)\n",
    "plt.errorbar([0],[0],fmt='o',label='PQT-12', c = temp_cp_colors['PQT-12'],ms=8)        \n",
    "   \n",
    "plt.xlabel('Conjugated Polymer wt%', fontsize=16)\n",
    "plt.ylabel('Conductivity (S/m)', fontsize=16)\n",
    "\n",
    "plt.xticks(fontsize=14)\n",
    "plt.yticks(fontsize=14)\n",
    "\n",
    "#plt.xscale('log')\n",
    "plt.yscale('log')\n",
    "\n",
    "plt.title('Conductivity Measurements CP Cast From Chloroform',fontsize=16)\n",
    "\n",
    "plt.legend(fontsize=12,loc='upper left',title=None, title_fontsize=12)# ncol=3)\n",
    "\n",
    "plt.tight_layout()\n",
    "plt.savefig(filename, dpi=300, bbox_inches='tight')"
   ]
  },
  {
   "cell_type": "code",
   "execution_count": null,
   "metadata": {},
   "outputs": [],
   "source": []
  }
 ],
 "metadata": {
  "kernelspec": {
   "display_name": "Python 3",
   "language": "python",
   "name": "python3"
  },
  "language_info": {
   "codemirror_mode": {
    "name": "ipython",
    "version": 3
   },
   "file_extension": ".py",
   "mimetype": "text/x-python",
   "name": "python",
   "nbconvert_exporter": "python",
   "pygments_lexer": "ipython3",
   "version": "3.8.3"
  }
 },
 "nbformat": 4,
 "nbformat_minor": 4
}
